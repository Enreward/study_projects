{
 "cells": [
  {
   "cell_type": "markdown",
   "metadata": {},
   "source": [
    "# 3.1 Стандартные методы и функции для строк"
   ]
  },
  {
   "cell_type": "markdown",
   "metadata": {},
   "source": [
    "### 3.1.1\n",
    "Вашей программе на вход подаются три строки s, a, b, состоящие из строчных латинских букв.  \n",
    "За одну операцию вы можете заменить все вхождения строки a в строку s на строку b.\n",
    "\n",
    "Например, s = \"abab\", a = \"ab\", b = \"ba\", тогда после выполнения одной операции строка s перейдет в строку \"baba\",  \n",
    "после выполнения двух и операций – в строку \"bbaa\", и дальнейшие операции не будут изменять строку s.\n",
    "\n",
    "Необходимо узнать, после какого минимального количества операций в строке s не останется вхождений строки a.  \n",
    "Если операций потребуется более 1000, выведите Impossible.\n",
    "\n",
    "Выведите одно число – минимальное число операций, после применения которых в строке s не останется вхождений строки a,  \n",
    "или Impossible, если операций потребуется более 1000."
   ]
  },
  {
   "cell_type": "markdown",
   "metadata": {},
   "source": [
    "Sample Input 1:  \n",
    "ababa  \n",
    "a  \n",
    "b  \n",
    "\n",
    "Sample Output 1:  \n",
    "1  \n",
    "\n",
    "Sample Input 2:  \n",
    "ababa  \n",
    "b  \n",
    "a  \n",
    "\n",
    "Sample Output 2:  \n",
    "1  \n",
    "\n",
    "Sample Input 3:  \n",
    "ababa  \n",
    "c  \n",
    "c  \n",
    "\n",
    "Sample Output 3:  \n",
    "0  \n",
    "\n",
    "Sample Input 4:  \n",
    "ababac  \n",
    "c  \n",
    "c  \n",
    "\n",
    "Sample Output 4:  \n",
    "Impossible"
   ]
  },
  {
   "cell_type": "code",
   "execution_count": 17,
   "metadata": {},
   "outputs": [
    {
     "name": "stdout",
     "output_type": "stream",
     "text": [
      "1\n",
      "1\n",
      "0\n",
      "Impossible\n"
     ]
    }
   ],
   "source": [
    "sample_input = [\n",
    "    ('ababa', 'a', 'b'),\n",
    "    ('ababa', 'b', 'a'),\n",
    "    ('ababa', 'c', 'c'),\n",
    "    ('ababac', 'c', 'c')\n",
    "]\n",
    "\n",
    "for s, a, b in sample_input:\n",
    "    for count in range(0, 1001):\n",
    "        if a in s:\n",
    "            s = s.replace(a, b)\n",
    "        else:\n",
    "            break\n",
    "    if count > 999:\n",
    "        print('Impossible')\n",
    "    else:\n",
    "        print(count)\n",
    "\n",
    "# s = input()\n",
    "# a = input()\n",
    "# b = input()\n",
    "\n",
    "# for count in range(0, 1001):\n",
    "#     if a in s:\n",
    "#         s = s.replace(a, b)\n",
    "#     else:\n",
    "#         break\n",
    "# if count > 999:\n",
    "#     print('Impossible')\n",
    "# else:\n",
    "#     print(count)\n"
   ]
  },
  {
   "cell_type": "markdown",
   "metadata": {},
   "source": [
    "### 3.1.2\n",
    "Вашей программе на вход подаются две строки s и t, состоящие из строчных латинских букв.\n",
    "\n",
    "Выведите одно число – количество вхождений строки t в строку s.\n",
    "\n",
    "Пример:  \n",
    "s = \"abababa\"  \n",
    "t = \"aba\"  \n",
    "\n",
    "Вхождения строки t в строку s:  \n",
    "**aba**baba  \n",
    "ab**aba**ba  \n",
    "abab**aba**  "
   ]
  },
  {
   "cell_type": "markdown",
   "metadata": {},
   "source": [
    "Sample Input 1:  \n",
    "abababa  \n",
    "aba  \n",
    "\n",
    "Sample Output 1:  \n",
    "3\n",
    "\n",
    "Sample Input 2:  \n",
    "abababa  \n",
    "abc\n",
    "\n",
    "Sample Output 2:  \n",
    "0\n",
    "\n",
    "Sample Input 3:  \n",
    "abc  \n",
    "abc\n",
    "\n",
    "Sample Output 3:  \n",
    "1\n",
    "\n",
    "Sample Input 4:  \n",
    "aaaaa  \n",
    "a\n",
    "\n",
    "Sample Output 4:  \n",
    "5"
   ]
  },
  {
   "cell_type": "code",
   "execution_count": 6,
   "metadata": {},
   "outputs": [
    {
     "name": "stdout",
     "output_type": "stream",
     "text": [
      "3\n",
      "0\n",
      "1\n",
      "5\n"
     ]
    }
   ],
   "source": [
    "sample_input = [\n",
    "    ('abababa', 'aba'),\n",
    "    ('abababa', 'abc'),\n",
    "    ('abc', 'abc'),\n",
    "    ('aaaaa', 'a')\n",
    "]\n",
    "\n",
    "for main_str, sub_str in sample_input:\n",
    "    count = 0\n",
    "    while True:\n",
    "        i_start = main_str.find(sub_str)\n",
    "        if i_start > -1:\n",
    "            count += 1\n",
    "            main_str = main_str[i_start+1:]\n",
    "        else:\n",
    "            break\n",
    "    print(count)\n",
    "\n",
    "# main_str = input()\n",
    "# sub_str = input()\n",
    "# count = 0\n",
    "# while True:\n",
    "#     i_start = main_str.find(sub_str)\n",
    "#     if i_start > -1:\n",
    "#         count += 1\n",
    "#         main_str = main_str[i_start+1:]\n",
    "#     else:\n",
    "#         break\n",
    "# print(count)\n"
   ]
  },
  {
   "cell_type": "markdown",
   "metadata": {},
   "source": [
    "# 3.2 Регулярные выражения в Python"
   ]
  },
  {
   "cell_type": "markdown",
   "metadata": {},
   "source": [
    "### 3.2.1\n"
   ]
  },
  {
   "cell_type": "code",
   "execution_count": null,
   "metadata": {},
   "outputs": [],
   "source": []
  }
 ],
 "metadata": {
  "kernelspec": {
   "display_name": "Python 3",
   "language": "python",
   "name": "python3"
  },
  "language_info": {
   "codemirror_mode": {
    "name": "ipython",
    "version": 3
   },
   "file_extension": ".py",
   "mimetype": "text/x-python",
   "name": "python",
   "nbconvert_exporter": "python",
   "pygments_lexer": "ipython3",
   "version": "3.12.0"
  }
 },
 "nbformat": 4,
 "nbformat_minor": 2
}
